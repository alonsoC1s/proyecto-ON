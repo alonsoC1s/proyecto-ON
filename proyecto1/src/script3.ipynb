{
 "cells": [
  {
   "cell_type": "markdown",
   "metadata": {},
   "source": [
    "# Problema 3\n",
    "$$\n",
    "\\begin{array}{ll}\n",
    "\\operatorname{minimizar} & \\frac{1}{2} \\vec{\\boldsymbol{x}}^{\\top} G \\vec{\\boldsymbol{x}}+\\vec{\\boldsymbol{c}}^{\\top} \\vec{\\boldsymbol{x}} \\\\\n",
    "\\text { sujeto a } & A \\vec{x}=\\vec{\\boldsymbol{b}} \\\\\n",
    "& x_{i} \\geq \\ell_{i} \\quad \\text { si } \\ell_{i} \\text { es finito, } \\\\\n",
    "& x_{i} \\leq u_{i} \\quad \\text { si } u_{i} \\text { es finito. }\n",
    "\\end{array}\n",
    "$$\n",
    "\n",
    "- Definimos $J \\subset I$ como sigue:\n",
    "\n",
    "- Para $x_{j} \\geq \\ell_{j}$ definimos $\\left|g_{j}\\left(x_{0}\\right)\\right| \\leq 8 \\varepsilon_{m} \\max \\left\\{\\left|\\ell_{j}\\right|, 1\\right\\} \\Longrightarrow j \\in J$\n",
    "\n",
    "- Para $x_{j} \\leq u_{j}$ definimos $\\left|g_{j}\\left(x_{0}\\right)\\right| \\leq 8 \\varepsilon_{m} \\max \\left\\{\\left|u_{j}\\right|, 1\\right\\} \\Longrightarrow j \\in J$\n",
    "\n",
    "Donde $\\varepsilon_{m}$ es el épsilon de la máquina `eps(Float64)`"
   ]
  },
  {
   "cell_type": "code",
   "execution_count": 1,
   "metadata": {},
   "outputs": [],
   "source": [
    "include(\"Solvers.jl\")\n",
    "using .Solvers, LinearAlgebra, MAT, .Solvers.Utils"
   ]
  },
  {
   "cell_type": "code",
   "execution_count": 15,
   "metadata": {},
   "outputs": [
    {
     "data": {
      "text/plain": [
       "Dict{String, Any} with 11 entries:\n",
       "  \"A\"      => …\n",
       "  \"aux\"    => Dict{String, Any}(\"c\"=>[0.0; 0.0; … ; 0.0; 10.0], \"hi\"=>[Inf; Inf…\n",
       "  \"b\"      => [0.0; 0.0; … ; 310.0; 300.0]\n",
       "  \"date\"   => \"\"\n",
       "  \"name\"   => \"LPnetlib/lp_afiro\"\n",
       "  \"kind\"   => \"linear programming problem\"\n",
       "  \"author\" => \"M. Saunders\"\n",
       "  \"id\"     => 597.0\n",
       "  \"notes\"  => [\"A Netlib LP problem, in lp/data.  For more information\", \"send …\n",
       "  \"title\"  => \"Netlib LP problem afiro: minimize c'*x, where Ax=b, lo<=x<=hi\"\n",
       "  \"ed\"     => \"D. Gay\""
      ]
     },
     "metadata": {},
     "output_type": "display_data"
    }
   ],
   "source": [
    "problem = matread(\"../data/lp_afiro.mat\")[\"Problem\"]"
   ]
  },
  {
   "cell_type": "code",
   "execution_count": 16,
   "metadata": {},
   "outputs": [
    {
     "data": {
      "text/plain": [
       "78-element Vector{Float64}:\n",
       "  0.0\n",
       "  0.0\n",
       " 80.0\n",
       "  0.0\n",
       "  0.0\n",
       "  0.0\n",
       " 80.0\n",
       "  0.0\n",
       "  0.0\n",
       "  0.0\n",
       "  ⋮\n",
       " -0.0\n",
       " -0.0\n",
       " -0.0\n",
       " -0.0\n",
       " -0.0\n",
       " -0.0\n",
       " -0.0\n",
       " -0.0\n",
       " -0.0"
      ]
     },
     "metadata": {},
     "output_type": "display_data"
    }
   ],
   "source": [
    "b = problem[\"b\"] \n",
    "c = problem[\"aux\"][\"c\"][:] # El [:] es para interpretar como vector\n",
    "l = problem[\"aux\"][\"lo\"][:] # El [:] es para interpretar como vector\n",
    "u = problem[\"aux\"][\"hi\"][:] # El [:] es para interpretar como vector\n",
    "n_eq = length(b)\n",
    "A_eq = problem[\"A\"]\n",
    "G = I(length(c))\n",
    "\n",
    "# Como all(isfinite.(l)) == true, se complen todas las cotas inferiores\n",
    "A = [A_eq; -I(length(l))]\n",
    "b = [b; -l]\n",
    "\n",
    "# Imponiendo cotas superiores\n",
    "# Concatenando las filas I_j de una identidad tal que u_j < Inf\n",
    "mask = isfinite.(u)\n",
    "A = [A; I(length(u))[mask, :]]\n",
    "# Igual cambiando b para que dimensiones coincidan\n",
    "b = [b; u[mask]]\n",
    "b = b[:]"
   ]
  },
  {
   "cell_type": "code",
   "execution_count": 17,
   "metadata": {},
   "outputs": [
    {
     "data": {
      "text/plain": [
       "78-element BitVector:\n",
       " 1\n",
       " 1\n",
       " 1\n",
       " 1\n",
       " 1\n",
       " 1\n",
       " 1\n",
       " 1\n",
       " 1\n",
       " 1\n",
       " ⋮\n",
       " 0\n",
       " 0\n",
       " 0\n",
       " 0\n",
       " 0\n",
       " 0\n",
       " 0\n",
       " 0\n",
       " 0"
      ]
     },
     "metadata": {},
     "output_type": "display_data"
    }
   ],
   "source": [
    "# Definiendo el conjunto inicial de igualdades\n",
    "# Obtenemos x_0 con linprog (pero ya sabemos que va a ser vec(0))\n",
    "x_0 = linprog(A, b, n_eq)\n",
    "\n",
    "# Shorthand para epsilon de maquina\n",
    "εₘ = eps(Float64)\n",
    "\n",
    "# Obteniendo los masks que indican si se usa la restricción\n",
    "# Recordamos que para las cotas inferiores g_i(x) = l_i - x_i & para las sup g_i(x) = x_i - u_i\n",
    "J_l = abs.(l - x_0) .<= 8 * εₘ *  max.(abs.(l), ones(length(l)))\n",
    "\n",
    "# Ahora para las superiores, recordando quitar los renglones donde u_j no es finito (por size de A).\n",
    "J_u = abs.(x_0 - u) .<= 8 * εₘ *  max.(abs.(u), ones(length(u)))\n",
    "J_u = J_u[isfinite.(u)]\n",
    "\n",
    "J = [J_l; J_u]\n",
    "\n",
    "# Concatenando con un índice aleatorio\n",
    "R_index = rand(findall(J), 1)\n",
    "notJ = falses(size(A, 1) - n_eq)\n",
    "notJ[R_index] .= true\n",
    "W_0 = [trues(n_eq); notJ]"
   ]
  },
  {
   "cell_type": "code",
   "execution_count": 18,
   "metadata": {},
   "outputs": [
    {
     "name": "stdout",
     "output_type": "stream",
     "text": [
      "Bool[1, 1, 1, 1, 1, 1, 1, 1, 1, 1, 1, 1, 1, 1, 1, 1, 1, 1, 1, 1, 1, 1, 1, 1, 1, 1, 1, 0, 0, 0, 0, 0, 0, 0, 0, 0, 0, 0, 0, 0, 0, 0, 1, 0, 0, 0, 0, 0, 0, 0, 0, 0, 0, 0, 0, 0, 0, 0, 0, 0, 0, 0, 0, 0, 0, 0, 0, 0, 0, 0, 0, 0, 0, 0, 0, 0, 0, 0]\n"
     ]
    }
   ],
   "source": [
    "println(W_0)"
   ]
  },
  {
   "cell_type": "markdown",
   "metadata": {},
   "source": [
    "Nótese que el número de filas de W_0 coincide con el de A, y el tamaño de b"
   ]
  },
  {
   "cell_type": "code",
   "execution_count": 19,
   "metadata": {},
   "outputs": [],
   "source": [
    "@assert size(A, 1) == length(W_0)\n",
    "@assert size(A, 1) == length(b)"
   ]
  },
  {
   "cell_type": "code",
   "execution_count": 20,
   "metadata": {},
   "outputs": [
    {
     "name": "stdout",
     "output_type": "stream",
     "text": [
      "α = -0.0, j = 29 \n",
      "\n",
      "Rama 1. ||d_k|| = 270.8, q(x) = 323100.0, α=-0.0k = 0\n",
      "α = -0.0, j = 44 \n",
      "\n",
      "Rama 1. ||d_k|| = 270.9, q(x) = 323100.0, α=-0.0k = 1\n",
      "α = -0.0, j = 69 \n",
      "\n",
      "Rama 1. ||d_k|| = 268.1, q(x) = 323100.0, α=-0.0k = 2\n",
      "α = -0.0, j = 68 \n",
      "\n",
      "Rama 1. ||d_k|| = 267.9, q(x) = 323100.0, α=-0.0k = 3\n",
      "α = -0.0, j = 70 \n",
      "\n",
      "Rama 1. ||d_k|| = 267.9, q(x) = 323100.0, α=-0.0k = 4\n",
      "α = -0.0, j = 71 \n",
      "\n",
      "Rama 1. ||d_k|| = 267.4, q(x) = 323100.0, α=-0.0k = 5\n",
      "α = -0.0, j = 35 \n",
      "\n",
      "Rama 1. ||d_k|| = 214.3, q(x) = 323100.0, α=-0.0k = 6\n",
      "α = -0.0, j = 55 \n",
      "\n",
      "Rama 1. ||d_k|| = 215.4, q(x) = 323100.0, α=-0.0k = 7\n",
      "α = -0.0, j = 31 \n",
      "\n",
      "Rama 1. ||d_k|| = 215.7, q(x) = 323100.0, α=-0.0k = 8\n",
      "α = -0.0, j = 54 \n",
      "\n",
      "Rama 1. ||d_k|| = 215.7, q(x) = 323100.0, α=-0.0k = 9\n",
      "α = -0.0, j = 78 \n",
      "\n",
      "Rama 1. ||d_k|| = 215.7, q(x) = 323100.0, α=-0.0k = 10\n",
      "α = -0.0, j = 53 \n",
      "\n",
      "Rama 1. ||d_k|| = 232.2, q(x) = 323100.0, α=-0.0k = 11\n",
      "α = 1.206, j = 28 \n",
      "\n",
      "Rama 1. ||d_k|| = 232.2, q(x) = 201000.0, α=1.206\n",
      "Rama 2. \n",
      "α = 3.033, j = 41 \n",
      "\n",
      "Rama 1. ||d_k|| = 13.14, q(x) = 200800.0, α=3.033\n",
      "Rama 2. j = 1, μ=0.0 \n"
     ]
    },
    {
     "data": {
      "text/plain": [
       "51-element Vector{Float64}:\n",
       "  15.09\n",
       "   1.688e-14\n",
       "  33.95\n",
       "   1.332e-15\n",
       "   2.336\n",
       "   2.357\n",
       " 264.5\n",
       "  -9.948e-14\n",
       " 358.4\n",
       "   2.153\n",
       "   ⋮\n",
       "  -8.527e-14\n",
       "   5.684e-14\n",
       "   2.153\n",
       "   2.182\n",
       "   2.211\n",
       " 113.5\n",
       "  15.94\n",
       "  60.88\n",
       "  -2.274e-13"
      ]
     },
     "metadata": {},
     "output_type": "display_data"
    },
    {
     "data": {
      "text/plain": []
     },
     "metadata": {},
     "output_type": "display_data"
    },
    {
     "name": "stdout",
     "output_type": "stream",
     "text": [
      "Concluyó método del conjunto activo en 14 iteraciones\n",
      "El punto de paro fue:\n"
     ]
    }
   ],
   "source": [
    "iters, x_star, q_star, μ = activeSetMethod(G, c, A, b, n_eq, copy(W_0))"
   ]
  },
  {
   "cell_type": "code",
   "execution_count": 21,
   "metadata": {},
   "outputs": [
    {
     "name": "stdout",
     "output_type": "stream",
     "text": [
      "[15.09, 1.688e-14, 33.95, 1.332e-15, 2.336, 2.357, 264.5, -9.948e-14, 358.4, 2.153, 2.182, 2.211, 1.94, 1.928, 10.62, 13.14, -5.684e-14, 139.9, 183.3, 64.91, 37.31, 27.6, 68.8, 46.05, 6.65, 3.042e-14, 7.105e-15, -1.421e-14, 6.65, 2.336, 2.357, 26.65, 26.05, 55.87, 235.5, 158.9, 32.68, 43.88, 101.3, 141.6, -8.527e-14, -1.137e-13, -8.527e-14, 5.684e-14, 2.153, 2.182, 2.211, 113.5, 15.94, 60.88, -2.274e-13]"
     ]
    }
   ],
   "source": [
    "print(round.(x_star, sigdigits=4))"
   ]
  },
  {
   "cell_type": "code",
   "execution_count": 22,
   "metadata": {},
   "outputs": [
    {
     "data": {
      "text/plain": [
       "401820.55566481256"
      ]
     },
     "metadata": {},
     "output_type": "display_data"
    }
   ],
   "source": [
    "q_star"
   ]
  },
  {
   "cell_type": "markdown",
   "metadata": {},
   "source": [
    "## Benchmarks"
   ]
  },
  {
   "cell_type": "code",
   "execution_count": 26,
   "metadata": {},
   "outputs": [],
   "source": [
    "using BenchmarkTools\n",
    "using Plots\n",
    "pgfplotsx(); theme(:ggplot2)\n",
    "\n",
    "# Corriendo el benchmark de acuerdo a las best practices\n",
    "bench = @benchmark activeSetMethod($G, $c, $A, $b, $n_eq, W_k) setup=(W_k = copy(W_0));"
   ]
  },
  {
   "cell_type": "code",
   "execution_count": 27,
   "metadata": {},
   "outputs": [
    {
     "data": {
      "text/plain": [
       "BenchmarkTools.Trial: 630 samples with 1 evaluation.\n",
       " Range \u001b[90m(\u001b[39m\u001b[36m\u001b[1mmin\u001b[22m\u001b[39m … \u001b[35mmax\u001b[39m\u001b[90m):  \u001b[39m\u001b[36m\u001b[1m5.764 ms\u001b[22m\u001b[39m … \u001b[35m29.671 ms\u001b[39m  \u001b[90m┊\u001b[39m GC \u001b[90m(\u001b[39mmin … max\u001b[90m): \u001b[39m0.00% … 52.42%\n",
       " Time  \u001b[90m(\u001b[39m\u001b[34m\u001b[1mmedian\u001b[22m\u001b[39m\u001b[90m):     \u001b[39m\u001b[34m\u001b[1m7.294 ms              \u001b[22m\u001b[39m\u001b[90m┊\u001b[39m GC \u001b[90m(\u001b[39mmedian\u001b[90m):    \u001b[39m0.00%\n",
       " Time  \u001b[90m(\u001b[39m\u001b[32m\u001b[1mmean\u001b[22m\u001b[39m ± \u001b[32mσ\u001b[39m\u001b[90m):   \u001b[39m\u001b[32m\u001b[1m7.912 ms\u001b[22m\u001b[39m ± \u001b[32m 3.213 ms\u001b[39m  \u001b[90m┊\u001b[39m GC \u001b[90m(\u001b[39mmean ± σ\u001b[90m):  \u001b[39m5.72% ± 10.52%\n",
       "\n",
       "  \u001b[39m█\u001b[39m▆\u001b[39m▁\u001b[39m \u001b[39m \u001b[34m \u001b[39m\u001b[32m \u001b[39m\u001b[39m▂\u001b[39m▁\u001b[39m \u001b[39m \u001b[39m \u001b[39m \u001b[39m \u001b[39m \u001b[39m \u001b[39m \u001b[39m \u001b[39m \u001b[39m \u001b[39m \u001b[39m \u001b[39m \u001b[39m \u001b[39m \u001b[39m \u001b[39m \u001b[39m \u001b[39m \u001b[39m \u001b[39m \u001b[39m \u001b[39m \u001b[39m \u001b[39m \u001b[39m \u001b[39m \u001b[39m \u001b[39m \u001b[39m \u001b[39m \u001b[39m \u001b[39m \u001b[39m \u001b[39m \u001b[39m \u001b[39m \u001b[39m \u001b[39m \u001b[39m \u001b[39m \u001b[39m \u001b[39m \u001b[39m \u001b[39m \u001b[39m \u001b[39m \u001b[39m \u001b[39m \u001b[39m \n",
       "  \u001b[39m█\u001b[39m█\u001b[39m█\u001b[39m▆\u001b[39m▅\u001b[34m▆\u001b[39m\u001b[32m▇\u001b[39m\u001b[39m█\u001b[39m█\u001b[39m▆\u001b[39m▄\u001b[39m▄\u001b[39m▃\u001b[39m▂\u001b[39m▃\u001b[39m▁\u001b[39m▁\u001b[39m▁\u001b[39m▂\u001b[39m▁\u001b[39m▂\u001b[39m▁\u001b[39m▁\u001b[39m▁\u001b[39m▁\u001b[39m▁\u001b[39m▁\u001b[39m▁\u001b[39m▁\u001b[39m▁\u001b[39m▂\u001b[39m▁\u001b[39m▁\u001b[39m▁\u001b[39m▁\u001b[39m▁\u001b[39m▁\u001b[39m▁\u001b[39m▁\u001b[39m▁\u001b[39m▁\u001b[39m▁\u001b[39m▁\u001b[39m▁\u001b[39m▁\u001b[39m▁\u001b[39m▁\u001b[39m▁\u001b[39m▁\u001b[39m▁\u001b[39m▂\u001b[39m▂\u001b[39m▂\u001b[39m▂\u001b[39m▂\u001b[39m▂\u001b[39m▂\u001b[39m▂\u001b[39m \u001b[39m▃\n",
       "  5.76 ms\u001b[90m        Histogram: frequency by time\u001b[39m          25 ms \u001b[0m\u001b[1m<\u001b[22m\n",
       "\n",
       " Memory estimate\u001b[90m: \u001b[39m\u001b[33m2.34 MiB\u001b[39m, allocs estimate\u001b[90m: \u001b[39m\u001b[33m8800\u001b[39m."
      ]
     },
     "metadata": {},
     "output_type": "display_data"
    }
   ],
   "source": [
    "bench"
   ]
  },
  {
   "cell_type": "code",
   "execution_count": 28,
   "metadata": {},
   "outputs": [],
   "source": [
    "ts = bench.times\n",
    "h = histogram(\n",
    "    ts,\n",
    "    xlabel=\"Tiempo (s)\",\n",
    "    legend = :none,\n",
    "    framestyle = :box);"
   ]
  },
  {
   "cell_type": "code",
   "execution_count": 29,
   "metadata": {},
   "outputs": [],
   "source": [
    "savefig(h, \"../docs/histograma2.tex\")"
   ]
  }
 ],
 "metadata": {
  "kernelspec": {
   "display_name": "Julia 1.6.3",
   "language": "julia",
   "name": "julia-1.6"
  },
  "language_info": {
   "file_extension": ".jl",
   "mimetype": "application/julia",
   "name": "julia",
   "version": "1.6.3"
  },
  "orig_nbformat": 4
 },
 "nbformat": 4,
 "nbformat_minor": 2
}
