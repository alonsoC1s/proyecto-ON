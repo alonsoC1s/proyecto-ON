{
 "cells": [
  {
   "cell_type": "markdown",
   "metadata": {},
   "source": [
    "# Problema 2\n",
    "$$\n",
    "\\begin{array}{ll}\n",
    "\\min & \\frac{1}{2} \\vec{\\boldsymbol{x}}^{\\top} G \\vec{\\boldsymbol{x}}-\\sum_{i=1}^{n} x_{i} \\\\\n",
    "\\text { sujeto a } & \\quad x_{1} \\leq 1 \\\\\n",
    "& 2 \\sum_{j=1}^{i-1} x_{j}+x_{i} \\leq 2^{i}-1 \\quad, i=2, \\ldots, n \\\\\n",
    "x_{1}, \\ldots, x_{n} \\geq 0\n",
    "\\end{array}\n",
    "$$\n",
    "\n",
    "\n",
    "Sea $n=15$. Aplica el método empezando con $W_{0}$ un subconjunto aleatorio de 5 entradas de los últimos 10 restricciones de positividad. Deben documentar"
   ]
  },
  {
   "cell_type": "code",
   "execution_count": 1,
   "metadata": {},
   "outputs": [],
   "source": [
    "include(\"Solvers.jl\")\n",
    "using .Solvers, .Solvers.Utils, LinearAlgebra"
   ]
  },
  {
   "cell_type": "code",
   "execution_count": 2,
   "metadata": {},
   "outputs": [
    {
     "data": {
      "text/plain": [
       "([0.0001 0.0 … 0.0 0.0; 0.0 0.0001 … 0.0 0.0; … ; 0.0 0.0 … 0.0001 0.0; 0.0 0.0 … 0.0 0.0001], [1.0, 1.0, 1.0, 1.0, 1.0, 1.0, 1.0, 1.0, 1.0, 1.0, 1.0, 1.0, 1.0, 1.0, 1.0], \n",
       "⣷⣄⠀⠀⠀⠀⠀⠀\n",
       "⣿⣿⣷⣄⠀⠀⠀⠀\n",
       "⣿⣿⣿⣿⣷⣄⠀⠀\n",
       "⡿⠿⠿⠿⠿⠿⠷⠄\n",
       "⠈⠢⡀⠀⠀⠀⠀⠀\n",
       "⠀⠀⠈⠢⡀⠀⠀⠀\n",
       "⠀⠀⠀⠀⠈⠢⡀⠀\n",
       "⠀⠀⠀⠀⠀⠀⠈⠂, [1.0, 3.0, 7.0, 15.0, 31.0, 63.0, 127.0, 255.0, 511.0, 1023.0  …  0.0, 0.0, 0.0, 0.0, 0.0, 0.0, 0.0, 0.0, 0.0, 0.0])"
      ]
     },
     "metadata": {},
     "output_type": "display_data"
    }
   ],
   "source": [
    "n_eq = 0\n",
    "G, c, A, b = klee_minty(15)"
   ]
  },
  {
   "cell_type": "markdown",
   "metadata": {},
   "source": [
    "Tomando un conjunto aleatorio de las restricciones para formar $W_0$"
   ]
  },
  {
   "cell_type": "code",
   "execution_count": 3,
   "metadata": {},
   "outputs": [],
   "source": [
    "W_0 = [falses(length(b)-10); rand((false, true), 10)]\n",
    "# Ahora hay que asegurar que son exactamente 5\n",
    "Δ = sum(W_0) - 5\n",
    "if Δ < 0\n",
    "    # Faltan restricciones\n",
    "    candidates = findall(W_0 .== false)\n",
    "    # Eligiendo solo los que están entre las 10 restricciones de positividad\n",
    "    candidates = candidates[candidates .>= length(b) - 10]\n",
    "    selected = rand(candidates, abs(Δ))\n",
    "\n",
    "    W_0[selected] .= trues(abs(Δ))\n",
    "elseif Δ > 0\n",
    "    # Hay que quitar\n",
    "    candidates = findall(W_0 .== true)\n",
    "    selected = rand(candidates, abs(Δ))\n",
    "\n",
    "    W_0[selected] .= falses(abs(Δ))\n",
    "end\n",
    "\n",
    "@assert sum(W_0) == 5"
   ]
  },
  {
   "cell_type": "code",
   "execution_count": 4,
   "metadata": {},
   "outputs": [
    {
     "name": "stdout",
     "output_type": "stream",
     "text": [
      "Bool[0, 0, 0, 0, 0, 0, 0, 0, 0, 0, 0, 0, 0, 0, 0, 0, 0, 0, 0, 0, 1, 1, 0, 0, 0, 1, 1, 0, 0, 1]\n"
     ]
    }
   ],
   "source": [
    "println(W_0)"
   ]
  },
  {
   "cell_type": "code",
   "execution_count": 5,
   "metadata": {},
   "outputs": [
    {
     "name": "stdout",
     "output_type": "stream",
     "text": [
      "α = 0.0, j = 16 \n",
      "\n",
      "Rama 1. ||d_k|| = 10000.0, q(x) = 0.0, α=0.0k = 0\n",
      "α = 0.0, j = 17 \n",
      "\n",
      "Rama 1. ||d_k|| = 10000.0, q(x) = 0.0, α=0.0k = 1\n",
      "α = 0.0, j = 18 \n",
      "\n",
      "Rama 1. ||d_k|| = 10000.0, q(x) = 0.0, α=0.0k = 2\n",
      "α = 0.0, j = 19 \n",
      "\n",
      "Rama 1. ||d_k|| = 10000.0, q(x) = 0.0, α=0.0k = 3\n",
      "α = 0.0, j = 20 \n",
      "\n",
      "Rama 1. ||d_k|| = 10000.0, q(x) = 0.0, α=0.0k = 4\n",
      "α = 0.0, j = 23 \n",
      "\n",
      "Rama 1. ||d_k|| = 10000.0, q(x) = 0.0, α=0.0k = 5\n",
      "α = 0.0, j = 24 \n",
      "\n",
      "Rama 1. ||d_k|| = 10000.0, q(x) = 0.0, α=0.0k = 6\n",
      "α = 0.0, j = 25 \n",
      "\n",
      "Rama 1. ||d_k|| = 10000.0, q(x) = 0.0, α=0.0k = 7\n",
      "α = 0.0, j = 28 \n",
      "\n",
      "Rama 1. ||d_k|| = 10000.0, q(x) = 0.0, α=0.0k = 8\n",
      "α = 0.0, j = 29 \n",
      "\n",
      "Rama 1. ||d_k|| = 10000.0, q(x) = 0.0, α=0.0k = 9\n",
      "Rama 2. j = 1, μ=0.0 \n"
     ]
    },
    {
     "data": {
      "text/plain": [
       "15-element Vector{Float64}:\n",
       " 0.0\n",
       " 0.0\n",
       " 0.0\n",
       " 0.0\n",
       " 0.0\n",
       " 0.0\n",
       " 0.0\n",
       " 0.0\n",
       " 0.0\n",
       " 0.0\n",
       " 0.0\n",
       " 0.0\n",
       " 0.0\n",
       " 0.0\n",
       " 0.0"
      ]
     },
     "metadata": {},
     "output_type": "display_data"
    },
    {
     "data": {
      "text/plain": []
     },
     "metadata": {},
     "output_type": "display_data"
    },
    {
     "name": "stdout",
     "output_type": "stream",
     "text": [
      "Concluyó método del conjunto activo en 10 iteraciones\n",
      "El punto de paro fue:\n"
     ]
    }
   ],
   "source": [
    "or = activeSetMethod(G, c, A, b, n_eq, W_0)"
   ]
  },
  {
   "cell_type": "markdown",
   "metadata": {},
   "source": [
    "Tomando un conjunto aleatorio de las restricciones para formar $W_0$"
   ]
  },
  {
   "cell_type": "code",
   "execution_count": 6,
   "metadata": {},
   "outputs": [
    {
     "name": "stdout",
     "output_type": "stream",
     "text": [
      "Bool[0, 0, 0, 0, 0, 0, 0, 0, 0, 0, 0, 0, 0, 0, 0, 1, 1, 1, 1, 1, 1, 1, 1, 1, 1, 1, 1, 1, 1, 1]\n"
     ]
    }
   ],
   "source": [
    "println(W_0)"
   ]
  },
  {
   "cell_type": "code",
   "execution_count": 7,
   "metadata": {},
   "outputs": [
    {
     "data": {
      "text/plain": [
       "0.0"
      ]
     },
     "metadata": {},
     "output_type": "display_data"
    }
   ],
   "source": [
    "or.q_star"
   ]
  },
  {
   "cell_type": "markdown",
   "metadata": {},
   "source": [
    "quadprog de Matlab da los mismos resultados.\n",
    "```\n",
    ">> quadprog(G,c,A,b)\n",
    "\n",
    "Minimum found that satisfies the constraints.\n",
    "\n",
    "Optimization completed because the objective function is non-decreasing in feasible directions, to within the value of the optimality tolerance, and constraints are satisfied to within the value of the constraint tolerance.\n",
    "\n",
    "ans =\n",
    "\n",
    "1.0e-10 *\n",
    "\n",
    "0.2220\n",
    "0.1175\n",
    "0.0685\n",
    "0.0744\n",
    "0.1014\n",
    "```"
   ]
  },
  {
   "cell_type": "markdown",
   "metadata": {},
   "source": []
  }
 ],
 "metadata": {
  "kernelspec": {
   "display_name": "Julia 1.6.3",
   "language": "julia",
   "name": "julia-1.6"
  },
  "language_info": {
   "file_extension": ".jl",
   "mimetype": "application/julia",
   "name": "julia",
   "version": "1.6.3"
  },
  "orig_nbformat": 4
 },
 "nbformat": 4,
 "nbformat_minor": 2
}
