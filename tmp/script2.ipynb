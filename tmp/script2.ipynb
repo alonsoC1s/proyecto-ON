{
 "cells": [
  {
   "cell_type": "markdown",
   "source": [
    "# Problema 1\n",
    "$$\n",
    "\\begin{array}{ll}\n",
    "\\min & \\frac{1}{2} \\vec{\\boldsymbol{x}}^{\\top} G \\vec{\\boldsymbol{x}}-\\sum_{i=1}^{n} x_{i} \\\\\n",
    "\\text { sujeto a } & \\quad x_{1} \\leq 1 \\\\\n",
    "& 2 \\sum_{j=1}^{i-1} x_{j}+x_{i} \\leq 2^{i}-1 \\quad, i=2, \\ldots, n \\\\\n",
    "x_{1}, \\ldots, x_{n} \\geq 0\n",
    "\\end{array}\n",
    "$$\n",
    "\n",
    "\n",
    "Sea $n=15$. Aplica el método empezando con $W_{0}$ un subconjunto aleatorio de 5 entradas de los últimos 10 restricciones de positividad. Deben documentar"
   ],
   "metadata": {}
  },
  {
   "cell_type": "code",
   "execution_count": 3,
   "source": [
    "include(\"Solvers.jl\")\n",
    "using .Solvers, .Solvers.Utils, LinearAlgebra"
   ],
   "outputs": [
    {
     "output_type": "stream",
     "name": "stdout",
     "text": [
      "WARNING: replacing module Solvers.\n"
     ]
    }
   ],
   "metadata": {}
  },
  {
   "cell_type": "code",
   "execution_count": 4,
   "source": [
    "n_eq = 0\n",
    "G, c, A, b = klee_minty(15)"
   ],
   "outputs": [
    {
     "data": {
      "text/plain": [
       "([0.0001 0.0 … 0.0 0.0; 0.0 0.0001 … 0.0 0.0; … ; 0.0 0.0 … 0.0001 0.0; 0.0 0.0 … 0.0 0.0001], [1.0, 1.0, 1.0, 1.0, 1.0, 1.0, 1.0, 1.0, 1.0, 1.0, 1.0, 1.0, 1.0, 1.0, 1.0], \n",
       "⣷⣄⠀⠀⠀⠀⠀⠀\n",
       "⣿⣿⣷⣄⠀⠀⠀⠀\n",
       "⣿⣿⣿⣿⣷⣄⠀⠀\n",
       "⡿⠿⠿⠿⠿⠿⠷⠄\n",
       "⠈⠢⡀⠀⠀⠀⠀⠀\n",
       "⠀⠀⠈⠢⡀⠀⠀⠀\n",
       "⠀⠀⠀⠀⠈⠢⡀⠀\n",
       "⠀⠀⠀⠀⠀⠀⠈⠂, [1.0, 3.0, 7.0, 15.0, 31.0, 63.0, 127.0, 255.0, 511.0, 1023.0  …  0.0, 0.0, 0.0, 0.0, 0.0, 0.0, 0.0, 0.0, 0.0, 0.0])"
      ]
     },
     "metadata": {},
     "output_type": "display_data"
    }
   ],
   "metadata": {}
  },
  {
   "cell_type": "code",
   "execution_count": 6,
   "source": [
    "activeSetMethod(G, c, A, b, n_eq)"
   ],
   "outputs": [
    {
     "output_type": "stream",
     "name": "stdout",
     "text": [
      "Rama 2. j = 1, μ=0.0 \n"
     ]
    },
    {
     "data": {
      "text/plain": [
       "([0.0, 0.0, 0.0, 0.0, 0.0, 0.0, 0.0, 0.0, 0.0, 0.0, 0.0, 0.0, 0.0, 0.0, 0.0], Float64[], [0.0, 0.0, 0.0, 0.0, 0.0, 0.0, 0.0, 0.0, 0.0, 0.0  …  1.0, 1.0, 1.0, 1.0, 1.0, 1.0, 1.0, 1.0, 1.0, 1.0])"
      ]
     },
     "metadata": {},
     "output_type": "display_data"
    }
   ],
   "metadata": {}
  },
  {
   "cell_type": "markdown",
   "source": [
    "`quadprog` de Matlab da los mismos resultados."
   ],
   "metadata": {}
  },
  {
   "cell_type": "markdown",
   "source": [
    ">> quadprog(G,c,A,b)\n",
    "\n",
    "Minimum found that satisfies the constraints.\n",
    "\n",
    "Optimization completed because the objective function is non-decreasing in \n",
    "feasible directions, to within the value of the optimality tolerance,\n",
    "and constraints are satisfied to within the value of the constraint tolerance.\n",
    "\n",
    "\n",
    "ans =\n",
    "\n",
    "   1.0e-10 *\n",
    "\n",
    "    0.2220\n",
    "    0.1175\n",
    "    0.0685\n",
    "    0.0744\n",
    "    0.1014"
   ],
   "metadata": {}
  },
  {
   "cell_type": "markdown",
   "source": [],
   "metadata": {}
  }
 ],
 "metadata": {
  "orig_nbformat": 4,
  "language_info": {
   "name": "julia",
   "version": "1.6.3",
   "mimetype": "application/julia",
   "file_extension": ".jl"
  },
  "kernelspec": {
   "display_name": "Julia 1.6.3",
   "language": "julia",
   "name": "julia-1.6"
  }
 },
 "nbformat": 4,
 "nbformat_minor": 2
}