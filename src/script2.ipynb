{
 "cells": [
  {
   "cell_type": "markdown",
   "metadata": {},
   "source": [
    "# Problema 2\n",
    "$$\n",
    "\\begin{array}{ll}\n",
    "\\min & \\frac{1}{2} \\vec{\\boldsymbol{x}}^{\\top} G \\vec{\\boldsymbol{x}}-\\sum_{i=1}^{n} x_{i} \\\\\n",
    "\\text { sujeto a } & \\quad x_{1} \\leq 1 \\\\\n",
    "& 2 \\sum_{j=1}^{i-1} x_{j}+x_{i} \\leq 2^{i}-1 \\quad, i=2, \\ldots, n \\\\\n",
    "x_{1}, \\ldots, x_{n} \\geq 0\n",
    "\\end{array}\n",
    "$$\n",
    "\n",
    "\n",
    "Sea $n=15$. Aplica el método empezando con $W_{0}$ un subconjunto aleatorio de 5 entradas de los últimos 10 restricciones de positividad. Deben documentar"
   ]
  },
  {
   "cell_type": "code",
   "execution_count": null,
   "metadata": {},
   "outputs": [],
   "source": [
    "include(\"Solvers.jl\")\n",
    "using .Solvers, .Solvers.Utils, LinearAlgebra"
   ]
  },
  {
   "cell_type": "code",
   "execution_count": null,
   "metadata": {},
   "outputs": [],
   "source": [
    "n_eq = 0\n",
    "G, c, A, b = klee_minty(15)"
   ]
  },
  {
   "cell_type": "markdown",
   "metadata": {},
   "source": [
    "Tomando un conjunto aleatorio de las restricciones para formar $W_0$"
   ]
  },
  {
   "cell_type": "code",
   "execution_count": null,
   "metadata": {},
   "outputs": [],
   "source": [
    "W_0 = [falses(length(b)-10); rand((false, true), 10)]\n",
    "# Ahora hay que asegurar que son exactamente 5\n",
    "δ = sum(W_0) - 5\n",
    "if δ < 0\n",
    "    # Faltan restricciones\n",
    "    candidates = findall(W_0 .== false)\n",
    "    # Eligiendo solo los que están entre las 10 restricciones de positividad\n",
    "    candidates = candidates[candidates .>= length(b) - 10]\n",
    "    selected = rand(candidates, abs(δ))\n",
    "\n",
    "    W_0[selected] .= trues(abs(δ))\n",
    "elseif δ > 0\n",
    "    # Hay que quitar\n",
    "    candidates = findall(W_0 .== true)\n",
    "    selected = rand(candidates, abs(δ))\n",
    "\n",
    "    W_0[selected] .= falses(abs(δ))\n",
    "end\n",
    "\n",
    "@assert sum(W_0) == 5"
   ]
  },
  {
   "cell_type": "code",
   "execution_count": null,
   "metadata": {},
   "outputs": [],
   "source": [
    "println(W_0)"
   ]
  },
  {
   "cell_type": "code",
   "execution_count": null,
   "metadata": {},
   "outputs": [],
   "source": [
    "iters, x_star, q_star, μ = activeSetMethod(G, c, A, b, n_eq, W_0)"
   ]
  },
  {
   "cell_type": "code",
   "execution_count": 1,
   "metadata": {},
   "outputs": [],
   "source": [
    "include(\"Solvers.jl\")\n",
    "using .Solvers, .Solvers.Utils, LinearAlgebra"
   ]
  },
  {
   "cell_type": "markdown",
   "metadata": {},
   "source": [
    "Tomando un conjunto aleatorio de las restricciones para formar $W_0$"
   ]
  },
  {
   "cell_type": "code",
   "execution_count": 4,
   "metadata": {},
   "outputs": [
    {
     "name": "stdout",
     "output_type": "stream",
     "text": [
      "Bool[0, 0, 0, 0, 0, 0, 0, 0, 0, 0, 0, 0, 0, 0, 0, 0, 0, 0, 0, 0, 0, 1, 0, 0, 1, 1, 0, 1, 1, 0]\n"
     ]
    }
   ],
   "source": [
    "println(W_0)"
   ]
  }
 ],
 "metadata": {
  "kernelspec": {
   "display_name": "Julia 1.6.3",
   "language": "julia",
   "name": "julia-1.6"
  },
  "language_info": {
   "file_extension": ".jl",
   "mimetype": "application/julia",
   "name": "julia",
   "version": "1.6.3"
  },
  "orig_nbformat": 4
 },
 "nbformat": 4,
 "nbformat_minor": 2
}
