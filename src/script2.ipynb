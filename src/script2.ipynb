{
 "cells": [
  {
   "cell_type": "markdown",
   "source": [
    "# Problema 1\n",
    "$$\n",
    "\\begin{array}{ll}\n",
    "\\min & \\frac{1}{2} \\vec{\\boldsymbol{x}}^{\\top} G \\vec{\\boldsymbol{x}}-\\sum_{i=1}^{n} x_{i} \\\\\n",
    "\\text { sujeto a } & \\quad x_{1} \\leq 1 \\\\\n",
    "& 2 \\sum_{j=1}^{i-1} x_{j}+x_{i} \\leq 2^{i}-1 \\quad, i=2, \\ldots, n \\\\\n",
    "x_{1}, \\ldots, x_{n} \\geq 0\n",
    "\\end{array}\n",
    "$$\n",
    "\n",
    "\n",
    "Sea $n=15$. Aplica el método empezando con $W_{0}$ un subconjunto aleatorio de 5 entradas de los últimos 10 restricciones de positividad. Deben documentar"
   ],
   "metadata": {}
  },
  {
   "cell_type": "code",
   "execution_count": 1,
   "source": [
    "include(\"Solvers.jl\")\n",
    "using .Solvers, .Solvers.Utils, LinearAlgebra"
   ],
   "outputs": [],
   "metadata": {}
  },
  {
   "cell_type": "code",
   "execution_count": 6,
   "source": [
    "n_eq = 0\n",
    "G, c, A, b = klee_minty(15)"
   ],
   "outputs": [
    {
     "data": {
      "text/plain": [
       "([0.0001 0.0 … 0.0 0.0; 0.0 0.0001 … 0.0 0.0; … ; 0.0 0.0 … 0.0001 0.0; 0.0 0.0 … 0.0 0.0001], [1.0, 1.0, 1.0, 1.0, 1.0, 1.0, 1.0, 1.0, 1.0, 1.0, 1.0, 1.0, 1.0, 1.0, 1.0], \n",
       "⣷⣄⠀⠀⠀⠀⠀⠀\n",
       "⣿⣿⣷⣄⠀⠀⠀⠀\n",
       "⣿⣿⣿⣿⣷⣄⠀⠀\n",
       "⡿⠿⠿⠿⠿⠿⠷⠄\n",
       "⠈⠢⡀⠀⠀⠀⠀⠀\n",
       "⠀⠀⠈⠢⡀⠀⠀⠀\n",
       "⠀⠀⠀⠀⠈⠢⡀⠀\n",
       "⠀⠀⠀⠀⠀⠀⠈⠂, [1.0, 3.0, 7.0, 15.0, 31.0, 63.0, 127.0, 255.0, 511.0, 1023.0  …  0.0, 0.0, 0.0, 0.0, 0.0, 0.0, 0.0, 0.0, 0.0, 0.0])"
      ]
     },
     "metadata": {},
     "output_type": "display_data"
    }
   ],
   "metadata": {}
  },
  {
   "cell_type": "code",
   "execution_count": 14,
   "source": [
    "activeSetMethod(G, c, A, b, n_eq)"
   ],
   "outputs": [
    {
     "output_type": "stream",
     "name": "stdout",
     "text": [
      "Rama 1. ||d_k|| = 10000.0, q(x) = 0.0, α=0.0k = 0\n",
      "Rama 1. ||d_k|| = 10000.0, q(x) = 0.0, α=0.0k = 1\n",
      "Rama 1. ||d_k|| = 10000.0, q(x) = 0.0, α=0.0k = 2\n",
      "Rama 1. ||d_k|| = 10000.0, q(x) = 0.0, α=0.0k = 3\n",
      "Rama 1. ||d_k|| = 10000.0, q(x) = 0.0, α=0.0k = 4\n",
      "Rama 1. ||d_k|| = 10000.0, q(x) = 0.0, α=0.0k = 5\n",
      "Rama 1. ||d_k|| = 10000.0, q(x) = 0.0, α=0.0k = 6\n",
      "Rama 1. ||d_k|| = 10000.0, q(x) = 0.0, α=0.0k = 7\n",
      "Rama 1. ||d_k|| = 10000.0, q(x) = 0.0, α=0.0k = 8\n",
      "Rama 1. ||d_k|| = 10000.0, q(x) = 0.0, α=0.0k = 9\n",
      "Rama 1. ||d_k|| = 10000.0, q(x) = 0.0, α=0.0k = 10\n",
      "Rama 1. ||d_k|| = 10000.0, q(x) = 0.0, α=0.0k = 11\n",
      "Rama 1. ||d_k|| = 10000.0, q(x) = 0.0, α=0.0k = 12\n",
      "Rama 1. ||d_k|| = 10000.0, q(x) = 0.0, α=0.0k = 13\n",
      "Rama 1. ||d_k|| = 10000.0, q(x) = 0.0, α=0.0k = 14\n",
      "Rama 1. ||d_k|| = 10000.0, q(x) = 0.0, α=0.0k = 15\n",
      "Rama 1. ||d_k|| = 10000.0, q(x) = 0.0, α=0.0k = 16\n",
      "Rama 1. ||d_k|| = 10000.0, q(x) = 0.0, α=0.0k = 17\n",
      "Rama 1. ||d_k|| = 10000.0, q(x) = 0.0, α=0.0k = 18\n",
      "Rama 1. ||d_k|| = 10000.0, q(x) = 0.0, α=0.0k = 19\n",
      "Rama 1. ||d_k|| = 10000.0, q(x) = 0.0, α=0.0k = 20\n",
      "Rama 1. ||d_k|| = 10000.0, q(x) = 0.0, α=0.0k = 21\n",
      "Rama 1. ||d_k|| = 10000.0, q(x) = 0.0, α=0.0k = 22\n",
      "Rama 1. ||d_k|| = 10000.0, q(x) = 0.0, α=0.0k = 23\n",
      "Rama 1. ||d_k|| = 10000.0, q(x) = 0.0, α=0.0k = 24\n",
      "Rama 1. ||d_k|| = 10000.0, q(x) = 0.0, α=0.0k = 25\n",
      "Rama 1. ||d_k|| = 10000.0, q(x) = 0.0, α=0.0k = 26\n",
      "Rama 1. ||d_k|| = 10000.0, q(x) = 0.0, α=0.0k = 27\n",
      "Rama 1. ||d_k|| = 10000.0, q(x) = 0.0, α=0.0k = 28\n",
      "Rama 1. ||d_k|| = 10000.0, q(x) = 0.0, α=0.0k = 29\n",
      "Rama 1. ||d_k|| = 10000.0, q(x) = 0.0, α=0.0k = 30\n",
      "Rama 1. ||d_k|| = 10000.0, q(x) = 0.0, α=0.0k = 31\n",
      "Rama 1. ||d_k|| = 10000.0, q(x) = 0.0, α=0.0k = 32\n",
      "Rama 1. ||d_k|| = 10000.0, q(x) = 0.0, α=0.0k = 33\n",
      "Rama 1. ||d_k|| = 10000.0, q(x) = 0.0, α=0.0k = 34\n",
      "Rama 1. ||d_k|| = 10000.0, q(x) = 0.0, α=0.0k = 35\n",
      "Rama 1. ||d_k|| = 10000.0, q(x) = 0.0, α=0.0k = 36\n",
      "Rama 1. ||d_k|| = 10000.0, q(x) = 0.0, α=0.0k = 37\n",
      "Rama 1. ||d_k|| = 10000.0, q(x) = 0.0, α=0.0k = 38\n",
      "Rama 1. ||d_k|| = 10000.0, q(x) = 0.0, α=0.0k = 39\n",
      "Rama 1. ||d_k|| = 10000.0, q(x) = 0.0, α=0.0k = 40\n",
      "Rama 1. ||d_k|| = 10000.0, q(x) = 0.0, α=0.0k = 41\n",
      "Rama 1. ||d_k|| = 10000.0, q(x) = 0.0, α=0.0k = 42\n",
      "Rama 1. ||d_k|| = 10000.0, q(x) = 0.0, α=0.0k = 43\n",
      "Rama 1. ||d_k|| = 10000.0, q(x) = 0.0, α=0.0k = 44\n",
      "Rama 1. ||d_k|| = 10000.0, q(x) = 0.0, α=0.0k = 45\n",
      "Rama 1. ||d_k|| = 10000.0, q(x) = 0.0, α=0.0k = 46\n",
      "Rama 1. ||d_k|| = 10000.0, q(x) = 0.0, α=0.0k = 47\n",
      "Rama 1. ||d_k|| = 10000.0, q(x) = 0.0, α=0.0k = 48\n",
      "Rama 1. ||d_k|| = 10000.0, q(x) = 0.0, α=0.0k = 49\n",
      "Rama 1. ||d_k|| = 10000.0, q(x) = 0.0, α=0.0k = 50\n",
      "Rama 1. ||d_k|| = 10000.0, q(x) = 0.0, α=0.0k = 51\n",
      "Rama 1. ||d_k|| = 10000.0, q(x) = 0.0, α=0.0k = 52\n",
      "Rama 1. ||d_k|| = 10000.0, q(x) = 0.0, α=0.0k = 53\n",
      "Rama 1. ||d_k|| = 10000.0, q(x) = 0.0, α=0.0k = 54\n",
      "Rama 1. ||d_k|| = 10000.0, q(x) = 0.0, α=0.0k = 55\n",
      "Rama 1. ||d_k|| = 10000.0, q(x) = 0.0, α=0.0k = 56\n",
      "Rama 1. ||d_k|| = 10000.0, q(x) = 0.0, α=0.0k = 57\n",
      "Rama 1. ||d_k|| = 10000.0, q(x) = 0.0, α=0.0k = 58\n",
      "Rama 1. ||d_k|| = 10000.0, q(x) = 0.0, α=0.0k = 59\n",
      "Rama 1. ||d_k|| = 10000.0, q(x) = 0.0, α=0.0k = 60\n",
      "Rama 1. ||d_k|| = 10000.0, q(x) = 0.0, α=0.0k = 61\n",
      "Rama 1. ||d_k|| = 10000.0, q(x) = 0.0, α=0.0k = 62\n",
      "Rama 1. ||d_k|| = 10000.0, q(x) = 0.0, α=0.0k = 63\n",
      "Rama 1. ||d_k|| = 10000.0, q(x) = 0.0, α=0.0k = 64\n",
      "Rama 1. ||d_k|| = 10000.0, q(x) = 0.0, α=0.0k = 65\n",
      "Rama 1. ||d_k|| = 10000.0, q(x) = 0.0, α=0.0k = 66\n",
      "Rama 1. ||d_k|| = 10000.0, q(x) = 0.0, α=0.0k = 67\n",
      "Rama 1. ||d_k|| = 10000.0, q(x) = 0.0, α=0.0k = 68\n",
      "Rama 1. ||d_k|| = 10000.0, q(x) = 0.0, α=0.0k = 69\n",
      "Rama 1. ||d_k|| = 10000.0, q(x) = 0.0, α=0.0k = 70\n",
      "Rama 1. ||d_k|| = 10000.0, q(x) = 0.0, α=0.0k = 71\n",
      "Rama 1. ||d_k|| = 10000.0, q(x) = 0.0, α=0.0k = 72\n",
      "Rama 1. ||d_k|| = 10000.0, q(x) = 0.0, α=0.0k = 73\n",
      "Rama 1. ||d_k|| = 10000.0, q(x) = 0.0, α=0.0k = 74"
     ]
    },
    {
     "output_type": "stream",
     "name": "stdout",
     "text": [
      "\n",
      "Rama 1. ||d_k|| = 10000.0, q(x) = 0.0, α=0.0k = 75\n",
      "Rama 1. ||d_k|| = 10000.0, q(x) = 0.0, α=0.0k = 76\n",
      "Rama 1. ||d_k|| = 10000.0, q(x) = 0.0, α=0.0k = 77\n",
      "Rama 1. ||d_k|| = 10000.0, q(x) = 0.0, α=0.0k = 78\n",
      "Rama 1. ||d_k|| = 10000.0, q(x) = 0.0, α=0.0k = 79\n",
      "Rama 1. ||d_k|| = 10000.0, q(x) = 0.0, α=0.0k = 80\n",
      "Rama 1. ||d_k|| = 10000.0, q(x) = 0.0, α=0.0k = 81\n",
      "Rama 1. ||d_k|| = 10000.0, q(x) = 0.0, α=0.0k = 82\n",
      "Rama 1. ||d_k|| = 10000.0, q(x) = 0.0, α=0.0k = 83\n",
      "Rama 1. ||d_k|| = 10000.0, q(x) = 0.0, α=0.0k = 84\n",
      "Rama 1. ||d_k|| = 10000.0, q(x) = 0.0, α=0.0k = 85\n",
      "Rama 1. ||d_k|| = 10000.0, q(x) = 0.0, α=0.0k = 86\n",
      "Rama 1. ||d_k|| = 10000.0, q(x) = 0.0, α=0.0k = 87\n",
      "Rama 1. ||d_k|| = 10000.0, q(x) = 0.0, α=0.0k = 88\n",
      "Rama 1. ||d_k|| = 10000.0, q(x) = 0.0, α=0.0k = 89\n",
      "Rama 1. ||d_k|| = 10000.0, q(x) = 0.0, α=0.0k = 90\n",
      "Rama 1. ||d_k|| = 10000.0, q(x) = 0.0, α=0.0k = 91\n",
      "Rama 1. ||d_k|| = 10000.0, q(x) = 0.0, α=0.0k = 92\n",
      "Rama 1. ||d_k|| = 10000.0, q(x) = 0.0, α=0.0k = 93\n",
      "Rama 1. ||d_k|| = 10000.0, q(x) = 0.0, α=0.0k = 94\n",
      "Rama 1. ||d_k|| = 10000.0, q(x) = 0.0, α=0.0k = 95\n",
      "Rama 1. ||d_k|| = 10000.0, q(x) = 0.0, α=0.0k = 96\n",
      "Rama 1. ||d_k|| = 10000.0, q(x) = 0.0, α=0.0k = 97\n",
      "Rama 1. ||d_k|| = 10000.0, q(x) = 0.0, α=0.0k = 98\n",
      "Rama 1. ||d_k|| = 10000.0, q(x) = 0.0, α=0.0k = 99\n"
     ]
    }
   ],
   "metadata": {}
  },
  {
   "cell_type": "markdown",
   "source": [
    "Se atoró. `quadprog` de Matlab da los mismos resultados."
   ],
   "metadata": {}
  },
  {
   "cell_type": "markdown",
   "source": [
    ">> quadprog(G,c,A,b)\n",
    "\n",
    "Minimum found that satisfies the constraints.\n",
    "\n",
    "Optimization completed because the objective function is non-decreasing in \n",
    "feasible directions, to within the value of the optimality tolerance,\n",
    "and constraints are satisfied to within the value of the constraint tolerance.\n",
    "\n",
    "\n",
    "ans =\n",
    "\n",
    "   1.0e-10 *\n",
    "\n",
    "    0.2220\n",
    "    0.1175\n",
    "    0.0685\n",
    "    0.0744\n",
    "    0.1014"
   ],
   "metadata": {}
  },
  {
   "cell_type": "markdown",
   "source": [],
   "metadata": {}
  }
 ],
 "metadata": {
  "orig_nbformat": 4,
  "language_info": {
   "name": "julia",
   "version": "1.6.1",
   "mimetype": "application/julia",
   "file_extension": ".jl"
  },
  "kernelspec": {
   "display_name": "Julia 1.6.1",
   "language": "julia",
   "name": "julia-1.6"
  }
 },
 "nbformat": 4,
 "nbformat_minor": 2
}