{
 "cells": [
  {
   "cell_type": "markdown",
   "source": [
    "# Problema 1\n",
    "$$\n",
    "\\min q(x) = (x-1)^2 + (y - 2.5)^2\n",
    "$$\n",
    "Sujeto a\n",
    "$$\n",
    "\\begin{align*}\n",
    "    -x + 2y - 2 &\\leq 0 \\\\\n",
    "    x + 2y -6 &\\leq 0 \\\\\n",
    "    x - 2y -2 &\\leq 0 \\\\\n",
    "    -x &\\leq 0 \\\\\n",
    "    -y &\\leq 0\n",
    "\\end{align*}\n",
    "$$\n",
    "\n",
    "Con $x_0 = (2, 0)^\\top$ & $W_0 = \\{3 \\}$"
   ],
   "metadata": {}
  },
  {
   "cell_type": "code",
   "execution_count": 2,
   "source": [
    "G = [1 0; 0 1]\n",
    "c = [-1, -2.5]\n"
   ],
   "outputs": [
    {
     "data": {
      "text/plain": [
       "2-element Vector{Float64}:\n",
       " -1.0\n",
       " -2.5"
      ]
     },
     "metadata": {},
     "output_type": "display_data"
    }
   ],
   "metadata": {}
  },
  {
   "cell_type": "markdown",
   "source": [],
   "metadata": {}
  },
  {
   "cell_type": "code",
   "execution_count": 4,
   "source": [
    "stack = (A, B) -> [A; B]"
   ],
   "outputs": [
    {
     "data": {
      "text/plain": [
       "#3 (generic function with 1 method)"
      ]
     },
     "metadata": {},
     "output_type": "display_data"
    }
   ],
   "metadata": {}
  },
  {
   "cell_type": "code",
   "execution_count": 10,
   "source": [
    "[[1 2; 3 4], nothing]"
   ],
   "outputs": [
    {
     "data": {
      "text/plain": [
       "2-element Vector{Union{Nothing, Matrix{Int64}}}:\n",
       " [1 2; 3 4]\n",
       " nothing"
      ]
     },
     "metadata": {},
     "output_type": "display_data"
    }
   ],
   "metadata": {}
  },
  {
   "cell_type": "code",
   "execution_count": null,
   "source": [],
   "outputs": [],
   "metadata": {}
  }
 ],
 "metadata": {
  "orig_nbformat": 4,
  "language_info": {
   "name": "julia",
   "version": "1.6.1",
   "mimetype": "application/julia",
   "file_extension": ".jl"
  },
  "kernelspec": {
   "display_name": "Julia 1.6.1",
   "language": "julia",
   "name": "julia-1.6"
  }
 },
 "nbformat": 4,
 "nbformat_minor": 2
}