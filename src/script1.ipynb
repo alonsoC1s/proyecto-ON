{
 "cells": [
  {
   "cell_type": "markdown",
   "metadata": {},
   "source": [
    "# Problema 1\n",
    "$$\n",
    "\\min q(x) = (x-1)^2 + (y - 2.5)^2\n",
    "$$\n",
    "Sujeto a\n",
    "$$\n",
    "\\begin{align*}\n",
    "    -x + 2y - 2 &\\leq 0 \\\\\n",
    "    x + 2y -6 &\\leq 0 \\\\\n",
    "    x - 2y -2 &\\leq 0 \\\\\n",
    "    -x &\\leq 0 \\\\\n",
    "    -y &\\leq 0\n",
    "\\end{align*}\n",
    "$$\n",
    "\n",
    "Con $x_0 = (2, 0)^\\top$ & $W_0 = \\{3 \\}$"
   ]
  },
  {
   "cell_type": "code",
   "execution_count": 1,
   "metadata": {},
   "outputs": [],
   "source": [
    "include(\"Solvers.jl\")\n",
    "using .Solvers, LinearAlgebra"
   ]
  },
  {
   "cell_type": "code",
   "execution_count": 2,
   "metadata": {},
   "outputs": [
    {
     "data": {
      "text/plain": [
       "0"
      ]
     },
     "metadata": {},
     "output_type": "display_data"
    }
   ],
   "source": [
    "G = 2 * I(2)\n",
    "c = [-2, -5]\n",
    "b = [2, 6, 2, 0, 0]\n",
    "\n",
    "A = [-1 2;\n",
    "    1 2;\n",
    "    1 -2;\n",
    "    -1 0;\n",
    "    0 -1]\n",
    "\n",
    "W_0 = [falses(2); true; falses(2)]\n",
    "\n",
    "n_eq = 0"
   ]
  },
  {
   "cell_type": "code",
   "execution_count": 3,
   "metadata": {},
   "outputs": [
    {
     "name": "stdout",
     "output_type": "stream",
     "text": [
      "d_k = [1.8, 0.8999999999999999]\n",
      "α = 1.6666666666666667, j = 2 \n",
      "\n",
      "Rama 1. ||d_k|| = 1.8, q(x) = 0.0, α=1.6666666666666667 \n",
      "d_k = [0.0, 0.0]\n",
      "Rama 2. \n",
      "d_k = [-0.8, 1.6]\n",
      "α = 0.5, j = 1 \n",
      "\n",
      "Rama 1. ||d_k|| = 1.6, q(x) = -1.6000000000000014, α=0.5 k = 1\n",
      "d_k = [1.1102230246251565e-16, 0.0]\n",
      "Rama 2. j = 2, μ=0.0 \n"
     ]
    },
    {
     "data": {
      "text/plain": [
       "OptimizeResult{Float64}(2, [1.4, 1.7], -1.6000000000000014, [0.7999999999999998, 0.0, 0.0, 0.0, 0.0])"
      ]
     },
     "metadata": {},
     "output_type": "display_data"
    }
   ],
   "source": [
    "iters, x_star, q_star, μ = activeSetMethod(G, c, A, b, n_eq, W_0)"
   ]
  },
  {
   "cell_type": "code",
   "execution_count": 4,
   "metadata": {},
   "outputs": [
    {
     "data": {
      "text/plain": [
       "-1.6000000000000014"
      ]
     },
     "metadata": {},
     "output_type": "display_data"
    }
   ],
   "source": [
    "q_star"
   ]
  },
  {
   "cell_type": "markdown",
   "metadata": {},
   "source": [
    "![Problema 1](../docs/p1.png)"
   ]
  },
  {
   "cell_type": "markdown",
   "metadata": {},
   "source": [
    "Lo hizo bien, salvo por el valor de $q$. `quadprog` de Matlab da los mismos resultados. Llegó en ... iteraciones"
   ]
  },
  {
   "cell_type": "code",
   "execution_count": 5,
   "metadata": {},
   "outputs": [
    {
     "data": {
      "text/plain": [
       "2"
      ]
     },
     "metadata": {},
     "output_type": "display_data"
    }
   ],
   "source": [
    "iters"
   ]
  },
  {
   "cell_type": "markdown",
   "metadata": {},
   "source": []
  }
 ],
 "metadata": {
  "kernelspec": {
   "display_name": "Julia 1.6.3",
   "language": "julia",
   "name": "julia-1.6"
  },
  "language_info": {
   "file_extension": ".jl",
   "mimetype": "application/julia",
   "name": "julia",
   "version": "1.6.3"
  },
  "orig_nbformat": 4
 },
 "nbformat": 4,
 "nbformat_minor": 2
}
