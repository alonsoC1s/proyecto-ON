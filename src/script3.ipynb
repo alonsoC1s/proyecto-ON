{
 "cells": [
  {
   "cell_type": "markdown",
   "metadata": {},
   "source": [
    "# Problema 1\n",
    "$$\n",
    "\\begin{array}{ll}\n",
    "\\operatorname{minimizar} & \\frac{1}{2} \\vec{\\boldsymbol{x}}^{\\top} G \\vec{\\boldsymbol{x}}+\\vec{\\boldsymbol{c}}^{\\top} \\vec{\\boldsymbol{x}} \\\\\n",
    "\\text { sujeto a } & A \\vec{x}=\\vec{\\boldsymbol{b}} \\\\\n",
    "& x_{i} \\geq \\ell_{i} \\quad \\text { si } \\ell_{i} \\text { es finito, } \\\\\n",
    "& x_{i} \\leq u_{i} \\quad \\text { si } u_{i} \\text { es finito. }\n",
    "\\end{array}\n",
    "$$\n",
    "\n",
    "- Definimos $J \\subset I$ como sigue:\n",
    "\n",
    "- Para $x_{j} \\geq \\ell_{j}$ definimos $\\left|g_{j}\\left(x_{0}\\right)\\right| \\leq 8 \\varepsilon_{m} \\max \\left\\{\\left|\\ell_{j}\\right|, 1\\right\\} \\Longrightarrow j \\in J$\n",
    "\n",
    "- Para $x_{j} \\leq u_{j}$ definimos $\\left|g_{j}\\left(x_{0}\\right)\\right| \\leq 8 \\varepsilon_{m} \\max \\left\\{\\left|u_{j}\\right|, 1\\right\\} \\Longrightarrow j \\in J$\n",
    "\n",
    "Donde $\\varepsilon_{m}$ es el épsilon de la máquina `eps(Float64)`"
   ]
  },
  {
   "cell_type": "code",
   "execution_count": 1,
   "metadata": {},
   "outputs": [],
   "source": [
    "include(\"Solvers.jl\")\n",
    "using .Solvers, LinearAlgebra, MAT, .Solvers.Utils"
   ]
  },
  {
   "cell_type": "code",
   "execution_count": 2,
   "metadata": {},
   "outputs": [
    {
     "data": {
      "text/plain": [
       "Dict{String, Any} with 11 entries:\n",
       "  \"A\"      => …\n",
       "  \"aux\"    => Dict{String, Any}(\"c\"=>[10.0; 11.0; … ; 15.0; 15.0], \"hi\"=>[100.0…\n",
       "  \"b\"      => [0.0; 0.0; … ; 0.0; 0.0]\n",
       "  \"date\"   => \"1989\"\n",
       "  \"name\"   => \"LPnetlib/lpi_woodinfe\"\n",
       "  \"kind\"   => \"linear programming problem\"\n",
       "  \"author\" => \"H. Greenberg\"\n",
       "  \"id\"     => 731.0\n",
       "  \"notes\"  => [\"An infeasible Netlib LP problem, in lp/infeas.  For more inform…\n",
       "  \"title\"  => \"Netlib LP problem woodinfe: minimize c'*x, where Ax=b, lo<=x<=hi\"\n",
       "  \"ed\"     => \"J. Chinneck\""
      ]
     },
     "metadata": {},
     "output_type": "display_data"
    }
   ],
   "source": [
    "problem = matread(\"../data/lpi_woodinfe.mat\")[\"Problem\"]"
   ]
  },
  {
   "cell_type": "code",
   "execution_count": 3,
   "metadata": {},
   "outputs": [
    {
     "data": {
      "text/plain": [
       "138-element Vector{Float64}:\n",
       "   0.0\n",
       "   0.0\n",
       "   0.0\n",
       "   0.0\n",
       "   0.0\n",
       "   0.0\n",
       "   0.0\n",
       "   0.0\n",
       "   0.0\n",
       "   0.0\n",
       "   ⋮\n",
       " 200.0\n",
       " 100.0\n",
       "  25.0\n",
       "  10.0\n",
       "  50.0\n",
       "  40.0\n",
       "  20.0\n",
       "   5.0\n",
       "  30.0"
      ]
     },
     "metadata": {},
     "output_type": "display_data"
    }
   ],
   "source": [
    "b = problem[\"b\"] \n",
    "c = problem[\"aux\"][\"c\"][:] # El [:] es para interpretar como vector\n",
    "l = problem[\"aux\"][\"lo\"][:] # El [:] es para interpretar como vector\n",
    "u = problem[\"aux\"][\"hi\"][:] # El [:] es para interpretar como vector\n",
    "n_eq = length(b)\n",
    "A_eq = problem[\"A\"]\n",
    "G = I(length(c))\n",
    "\n",
    "# Como all(isfinite.(l)) == true, se complen todas las cotas inferiores\n",
    "A = [A_eq; -I(length(l))]\n",
    "b = [b; l]\n",
    "\n",
    "# Imponiendo cotas superiores\n",
    "# Concatenando las filas I_j de una identidad tal que u_j < Inf\n",
    "mask = isfinite.(u)\n",
    "A = [A; I(length(u))[mask, :]]\n",
    "# Igual cambiando b para que dimensiones coincidan\n",
    "b = [b; u[mask]]\n",
    "b = b[:]"
   ]
  },
  {
   "cell_type": "code",
   "execution_count": 4,
   "metadata": {},
   "outputs": [
    {
     "data": {
      "text/plain": [
       "138-element BitVector:\n",
       " 1\n",
       " 1\n",
       " 1\n",
       " 1\n",
       " 1\n",
       " 1\n",
       " 1\n",
       " 1\n",
       " 1\n",
       " 1\n",
       " ⋮\n",
       " 0\n",
       " 0\n",
       " 0\n",
       " 0\n",
       " 0\n",
       " 0\n",
       " 0\n",
       " 0\n",
       " 0"
      ]
     },
     "metadata": {},
     "output_type": "display_data"
    }
   ],
   "source": [
    "# Definiendo el conjunto inicial de igualdades\n",
    "# Obtenemos x_0 con linprog (pero ya sabemos que va a ser vec(0))\n",
    "x_0 = linprog(A, b, n_eq)\n",
    "\n",
    "# Shorthand para epsilon de maquina\n",
    "εₘ = eps(Float64)\n",
    "\n",
    "# Obteniendo los masks que indican si se usa la restricción\n",
    "# Recordamos que para las cotas inferiores g_i(x) = l_i - x_i & para las sup g_i(x) = x_i - u_i\n",
    "J_l = abs.(l - x_0) .<= 8 * εₘ *  max.(abs.(l), ones(length(l)))\n",
    "\n",
    "# Ahora para las superiores, recordando quitar los renglones donde u_j no es finito (por size de A).\n",
    "J_u = abs.(x_0 - u) .<= 8 * εₘ *  max.(abs.(u), ones(length(u)))\n",
    "J_u = J_u[isfinite.(u)]\n",
    "\n",
    "# Concatenando\n",
    "W_0 = [trues(n_eq); J_l; J_u]"
   ]
  },
  {
   "cell_type": "markdown",
   "metadata": {},
   "source": [
    "Nótese que el número de filas de W_0 coincide con el de A, y el tamaño de b"
   ]
  },
  {
   "cell_type": "code",
   "execution_count": 5,
   "metadata": {},
   "outputs": [],
   "source": [
    "@assert size(A, 1) == length(W_0)\n",
    "@assert size(A, 1) == length(b)"
   ]
  },
  {
   "cell_type": "code",
   "execution_count": 6,
   "metadata": {},
   "outputs": [
    {
     "name": "stdout",
     "output_type": "stream",
     "text": [
      "Rama 2. j = 19, μ=0.0 \n"
     ]
    },
    {
     "data": {
      "text/plain": [
       "([0.0, 0.0, 0.0, 0.0, 0.0, 0.0, 0.0, 0.0, 0.0, 0.0  …  0.0, 0.0, 0.0, 0.0, 0.0, 0.0, 0.0, 0.0, 0.0, 0.0], [3.857142857142855, -1.0065053380614282e-14, 2.9999999999999933, -1.2960903596640766e-14, 1.333333333333324, -4.811065295335972e-15, 3.9999999999999902, 2.107206423394375e-15, 8.666666666666664, -1.7073028880898917e-14  …  2.7270194271633698e-15, 2.1666666666666665, -1.801574965604803e-14, 5.195270059977747e-16, 4.1005617914360615e-15, -2.5999999999999885, 4.799596855932396e-15, 5.4527954440951835e-15, 1.3333333333333388, -0.0], [13.857142857142863, 13.999999999999986, 13.333333333333337, 19.000000000000007, 19.66666666666666, 15.85714285714285, 18.000000000000014, 13.333333333333336, 48.80000000000002, 46.39999999999997  …  0.0, 0.0, 0.0, 0.0, 0.0, 0.0, 0.0, 0.0, 0.0, 0.0])"
      ]
     },
     "metadata": {},
     "output_type": "display_data"
    }
   ],
   "source": [
    "x_star, _, μ = activeSetMethod(G, c, A, b, n_eq, W_0)"
   ]
  },
  {
   "cell_type": "code",
   "execution_count": 12,
   "metadata": {},
   "outputs": [
    {
     "data": {
      "text/plain": [
       "0.0"
      ]
     },
     "metadata": {},
     "output_type": "display_data"
    }
   ],
   "source": [
    "x_star' * G * x_star + c' * x_star"
   ]
  },
  {
   "cell_type": "markdown",
   "metadata": {},
   "source": []
  }
 ],
 "metadata": {
  "kernelspec": {
   "display_name": "Julia 1.6.3",
   "language": "julia",
   "name": "julia-1.6"
  },
  "language_info": {
   "file_extension": ".jl",
   "mimetype": "application/julia",
   "name": "julia",
   "version": "1.6.3"
  },
  "orig_nbformat": 4
 },
 "nbformat": 4,
 "nbformat_minor": 2
}
