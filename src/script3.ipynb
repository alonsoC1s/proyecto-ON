{
 "cells": [
  {
   "cell_type": "markdown",
   "source": [
    "# Problema 1\n",
    "$$\n",
    "\\begin{array}{ll}\n",
    "\\operatorname{minimizar} & \\frac{1}{2} \\vec{\\boldsymbol{x}}^{\\top} G \\vec{\\boldsymbol{x}}+\\vec{\\boldsymbol{c}}^{\\top} \\vec{\\boldsymbol{x}} \\\\\n",
    "\\text { sujeto a } & A \\vec{x}=\\vec{\\boldsymbol{b}} \\\\\n",
    "& x_{i} \\geq \\ell_{i} \\quad \\text { si } \\ell_{i} \\text { es finito, } \\\\\n",
    "& x_{i} \\leq u_{i} \\quad \\text { si } u_{i} \\text { es finito. }\n",
    "\\end{array}\n",
    "$$\n",
    "\n",
    "- Definimos $J \\subset I$ como sigue:\n",
    "\n",
    "- Para $x_{j} \\geq \\ell_{j}$ definimos $\\left|g_{j}\\left(x_{0}\\right)\\right| \\leq 8 \\varepsilon_{m}$ máx $\\left\\{\\left|\\ell_{j}\\right|, 1\\right\\} \\Longrightarrow j \\in J$\n",
    "\n",
    "- Para $x_{j} \\leq u_{j}$ definimos $\\left|g_{j}\\left(x_{0}\\right)\\right| \\leq 8 \\varepsilon_{m}$ máx $\\left\\{\\left|u_{j}\\right|, 1\\right\\} \\Longrightarrow j \\in J$\n",
    "\n",
    "Donde $\\varepsilon_{m}$ es el épsilon de la máquina (numpy.finfo(float).eps)."
   ],
   "metadata": {}
  },
  {
   "cell_type": "code",
   "execution_count": 1,
   "source": [
    "using Revise\n",
    "includet(\"Solvers.jl\")\n",
    "using .Solvers, LinearAlgebra, MAT"
   ],
   "outputs": [],
   "metadata": {}
  },
  {
   "cell_type": "code",
   "execution_count": 2,
   "source": [
    "problem = matread(\"data/lpi_woodinfe.mat\")[\"Problem\"]\n",
    "b = problem[\"b\"]\n",
    "c = problem[\"aux\"][\"c\"]\n",
    "l = problem[\"aux\"][\"lo\"]\n",
    "u = problem[\"aux\"][\"hi\"]\n",
    "n_eq = length(b)\n",
    "A = problem[\"A\"]\n"
   ],
   "outputs": [
    {
     "output_type": "stream",
     "name": "stdout",
     "text": [
      "┌ Error: Some Julia code in the VS Code extension crashed\n",
      "└ @ VSCodeServer /Users/alonsomartinez/.vscode/extensions/julialang.language-julia-1.4.3/scripts/error_handler.jl:15\n",
      "\u001b[91m\u001b[1mERROR: \u001b[22m\u001b[39m"
     ]
    },
    {
     "output_type": "stream",
     "name": "stdout",
     "text": [
      "MethodError: no method matching revise()\n",
      "The applicable method may be too new: running in world age 29608, while current world is 29684.\n",
      "\u001b[0mClosest candidates are:\n",
      "\u001b[0m  revise(; throw) at /Users/alonsomartinez/.julia/packages/Revise/OgnOk/src/packagedef.jl:733 (method too new to be called from this world context.)\n",
      "\u001b[0m  revise(\u001b[91m::REPL.REPLBackend\u001b[39m) at /Users/alonsomartinez/.julia/packages/Revise/OgnOk/src/packagedef.jl:832 (method too new to be called from this world context.)\n",
      "\u001b[0m  revise(\u001b[91m::Module\u001b[39m) at /Users/alonsomartinez/.julia/packages/Revise/OgnOk/src/packagedef.jl:840 (method too new to be called from this world context.)\n",
      "Stacktrace:\n",
      " [1] \u001b[0m\u001b[1mrevise\u001b[22m\u001b[0m\u001b[1m(\u001b[22m\u001b[0m\u001b[1m)\u001b[22m\n",
      "\u001b[90m   @ \u001b[39m\u001b[35mVSCodeServer\u001b[39m \u001b[90m~/.vscode/extensions/julialang.language-julia-1.4.3/scripts/packages/VSCodeServer/src/\u001b[39m\u001b[90;4mmisc.jl:157\u001b[0m\n",
      " [2] \u001b[0m\u001b[1m(::VSCodeServer.var\"#98#99\"{VSCodeServer.NotebookRunCellArguments, String})\u001b[22m\u001b[0m\u001b[1m(\u001b[22m\u001b[0m\u001b[1m)\u001b[22m\n",
      "\u001b[90m   @ \u001b[39m\u001b[35mVSCodeServer\u001b[39m \u001b[90m~/.vscode/extensions/julialang.language-julia-1.4.3/scripts/packages/VSCodeServer/src/\u001b[39m\u001b[90;4mserve_notebook.jl:15\u001b[0m\n",
      " [3] \u001b[0m\u001b[1mwithpath\u001b[22m\u001b[0m\u001b[1m(\u001b[22m\u001b[90mf\u001b[39m::\u001b[0mVSCodeServer.var\"#98#99\"\u001b[90m{VSCodeServer.NotebookRunCellArguments, String}\u001b[39m, \u001b[90mpath\u001b[39m::\u001b[0mString\u001b[0m\u001b[1m)\u001b[22m\n",
      "\u001b[90m   @ \u001b[39m\u001b[35mVSCodeServer\u001b[39m \u001b[90m~/.vscode/extensions/julialang.language-julia-1.4.3/scripts/packages/VSCodeServer/src/\u001b[39m\u001b[90;4mrepl.jl:185\u001b[0m\n",
      " [4] \u001b[0m\u001b[1mnotebook_runcell_request\u001b[22m\u001b[0m\u001b[1m(\u001b[22m\u001b[90mconn\u001b[39m::\u001b[0mVSCodeServer.JSONRPC.JSONRPCEndpoint\u001b[90m{Base.PipeEndpoint, Base.PipeEndpoint}\u001b[39m, \u001b[90mparams\u001b[39m::\u001b[0mVSCodeServer.NotebookRunCellArguments\u001b[0m\u001b[1m)\u001b[22m\n",
      "\u001b[90m   @ \u001b[39m\u001b[35mVSCodeServer\u001b[39m \u001b[90m~/.vscode/extensions/julialang.language-julia-1.4.3/scripts/packages/VSCodeServer/src/\u001b[39m\u001b[90;4mserve_notebook.jl:14\u001b[0m\n",
      " [5] \u001b[0m\u001b[1mdispatch_msg\u001b[22m\u001b[0m\u001b[1m(\u001b[22m\u001b[90mx\u001b[39m::\u001b[0mVSCodeServer.JSONRPC.JSONRPCEndpoint\u001b[90m{Base.PipeEndpoint, Base.PipeEndpoint}\u001b[39m, \u001b[90mdispatcher\u001b[39m::\u001b[0mVSCodeServer.JSONRPC.MsgDispatcher, \u001b[90mmsg\u001b[39m::\u001b[0mDict\u001b[90m{String, Any}\u001b[39m\u001b[0m\u001b[1m)\u001b[22m\n",
      "\u001b[90m   @ \u001b[39m\u001b[35mVSCodeServer.JSONRPC\u001b[39m \u001b[90m~/.vscode/extensions/julialang.language-julia-1.4.3/scripts/packages/JSONRPC/src/\u001b[39m\u001b[90;4mtyped.jl:67\u001b[0m\n",
      " [6] \u001b[0m\u001b[1mserve_notebook\u001b[22m\u001b[0m\u001b[1m(\u001b[22m\u001b[90mpipename\u001b[39m::\u001b[0mString; \u001b[90mcrashreporting_pipename\u001b[39m::\u001b[0mString\u001b[0m\u001b[1m)\u001b[22m\n",
      "\u001b[90m   @ \u001b[39m\u001b[35mVSCodeServer\u001b[39m \u001b[90m~/.vscode/extensions/julialang.language-julia-1.4.3/scripts/packages/VSCodeServer/src/\u001b[39m\u001b[90;4mserve_notebook.jl:94\u001b[0m\n",
      " [7] top-level scope\n",
      "\u001b[90m   @ \u001b[39m\u001b[90m~/.vscode/extensions/julialang.language-julia-1.4.3/scripts/notebook/\u001b[39m\u001b[90;4mnotebook.jl:10\u001b[0m\n"
     ]
    }
   ],
   "metadata": {}
  },
  {
   "cell_type": "code",
   "execution_count": 6,
   "source": [
    "x_star, _, μ = activeSetMethod(G, c, A, b, n_eq, W_0)"
   ],
   "outputs": [
    {
     "output_type": "stream",
     "name": "stderr",
     "text": [
      "WARNING: both Utils and Utils export \"solve2_8\"; uses of it in module Solvers must be qualified\n"
     ]
    },
    {
     "output_type": "error",
     "ename": "LoadError",
     "evalue": "UndefVarError: solve2_8 not defined",
     "traceback": [
      "UndefVarError: solve2_8 not defined",
      "",
      "Stacktrace:",
      " [1] activeSetMethod(G::Matrix{Int64}, c::Vector{Float64}, A::Matrix{Int64}, b::Vector{Int64}, n_eq::Int64, W_k::BitVector, maxiter::Int64, atol::Float64)",
      "   @ Main.Solvers ~/Dropbox/ITAM/Semestre 9 - Otoño 2021/OptimizaciónN/proyecto/src/Solvers.jl:69",
      " [2] activeSetMethod(G::Matrix{Int64}, c::Vector{Float64}, A::Matrix{Int64}, b::Vector{Int64}, n_eq::Int64, W_k::BitVector)",
      "   @ Main.Solvers ~/Dropbox/ITAM/Semestre 9 - Otoño 2021/OptimizaciónN/proyecto/src/Solvers.jl:50",
      " [3] top-level scope",
      "   @ In[6]:1",
      " [4] eval",
      "   @ ./boot.jl:360 [inlined]",
      " [5] include_string(mapexpr::typeof(REPL.softscope), mod::Module, code::String, filename::String)",
      "   @ Base ./loading.jl:1094"
     ]
    }
   ],
   "metadata": {}
  },
  {
   "cell_type": "code",
   "execution_count": 4,
   "source": [
    "x_star' * G * x_star + c' * x_star"
   ],
   "outputs": [
    {
     "output_type": "error",
     "ename": "UndefVarError",
     "evalue": "UndefVarError: x_star not defined",
     "traceback": [
      "\n",
      "Stacktrace:\n",
      "  [1] top-level scope\n",
      "    @ ~/Dropbox/ITAM/Semestre 9 - Otoño 2021/OptimizaciónN/proyecto/src/script1.ipynb:1\n",
      "  [2] eval\n",
      "    @ ./boot.jl:360 [inlined]\n",
      "  [3] include_string(mapexpr::typeof(REPL.softscope), mod::Module, code::String, filename::String)\n",
      "    @ Base ./loading.jl:1094\n",
      "  [4] #invokelatest#2\n",
      "    @ ./essentials.jl:708 [inlined]\n",
      "  [5] invokelatest\n",
      "    @ ./essentials.jl:706 [inlined]\n",
      "  [6] (::VSCodeServer.var\"#98#99\"{VSCodeServer.NotebookRunCellArguments, String})()\n",
      "    @ VSCodeServer ~/.vscode/extensions/julialang.language-julia-1.4.3/scripts/packages/VSCodeServer/src/serve_notebook.jl:18\n",
      "  [7] withpath(f::VSCodeServer.var\"#98#99\"{VSCodeServer.NotebookRunCellArguments, String}, path::String)\n",
      "    @ VSCodeServer ~/.vscode/extensions/julialang.language-julia-1.4.3/scripts/packages/VSCodeServer/src/repl.jl:185\n",
      "  [8] notebook_runcell_request(conn::VSCodeServer.JSONRPC.JSONRPCEndpoint{Base.PipeEndpoint, Base.PipeEndpoint}, params::VSCodeServer.NotebookRunCellArguments)\n",
      "    @ VSCodeServer ~/.vscode/extensions/julialang.language-julia-1.4.3/scripts/packages/VSCodeServer/src/serve_notebook.jl:14\n",
      "  [9] dispatch_msg(x::VSCodeServer.JSONRPC.JSONRPCEndpoint{Base.PipeEndpoint, Base.PipeEndpoint}, dispatcher::VSCodeServer.JSONRPC.MsgDispatcher, msg::Dict{String, Any})\n",
      "    @ VSCodeServer.JSONRPC ~/.vscode/extensions/julialang.language-julia-1.4.3/scripts/packages/JSONRPC/src/typed.jl:67\n",
      " [10] serve_notebook(pipename::String; crashreporting_pipename::String)\n",
      "    @ VSCodeServer ~/.vscode/extensions/julialang.language-julia-1.4.3/scripts/packages/VSCodeServer/src/serve_notebook.jl:94\n",
      " [11] top-level scope\n",
      "    @ ~/.vscode/extensions/julialang.language-julia-1.4.3/scripts/notebook/notebook.jl:10\n",
      " [12] include(mod::Module, _path::String)\n",
      "    @ Base ./Base.jl:386\n",
      " [13] exec_options(opts::Base.JLOptions)\n",
      "    @ Base ./client.jl:285\n",
      " [14] _start()\n",
      "    @ Base ./client.jl:485"
     ]
    }
   ],
   "metadata": {}
  },
  {
   "cell_type": "markdown",
   "source": [
    "![Problema 1](../docs/p1.png)"
   ],
   "metadata": {}
  },
  {
   "cell_type": "markdown",
   "source": [
    "Lo hizo bien, salvo por el valor de $q$. `quadprog` de Matlab da los mismos resultados."
   ],
   "metadata": {}
  }
 ],
 "metadata": {
  "orig_nbformat": 4,
  "language_info": {
   "name": "julia",
   "version": "1.6.1",
   "mimetype": "application/julia",
   "file_extension": ".jl"
  },
  "kernelspec": {
   "display_name": "Julia 1.6.1",
   "language": "julia",
   "name": "julia-1.6"
  }
 },
 "nbformat": 4,
 "nbformat_minor": 2
}