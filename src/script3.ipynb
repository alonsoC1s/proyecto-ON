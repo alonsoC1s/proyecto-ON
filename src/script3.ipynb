{
 "cells": [
  {
   "cell_type": "markdown",
   "source": [
    "# Problema 1\n",
    "$$\n",
    "\\min q(x) = (x-1)^2 + (y - 2.5)^2\n",
    "$$\n",
    "Sujeto a\n",
    "$$\n",
    "\\begin{align*}\n",
    "    -x + 2y - 2 &\\leq 0 \\\\\n",
    "    x + 2y -6 &\\leq 0 \\\\\n",
    "    x - 2y -2 &\\leq 0 \\\\\n",
    "    -x &\\leq 0 \\\\\n",
    "    -y &\\leq 0\n",
    "\\end{align*}\n",
    "$$\n",
    "\n",
    "Con $x_0 = (2, 0)^\\top$ & $W_0 = \\{3 \\}$"
   ],
   "metadata": {}
  },
  {
   "cell_type": "code",
   "execution_count": 14,
   "source": [
    "using Revise\n",
    "includet(\"Solvers.jl\")\n",
    "using .Solvers, LinearAlgebra"
   ],
   "outputs": [
    {
     "output_type": "stream",
     "name": "stdout",
     "text": [
      "┌ Warning: Replacing docs for `Solvers :: Union{}` in module `Main.Solvers`\n",
      "└ @ Base.Docs docs/Docs.jl:240\n",
      "WARNING: replacing module Utils.\n",
      "┌ Warning: Replacing docs for `Main.Solvers.OptimizeResult :: Union{}` in module `Main.Solvers`\n",
      "└ @ Base.Docs docs/Docs.jl:240\n"
     ]
    },
    {
     "output_type": "stream",
     "name": "stdout",
     "text": [
      "┌ Warning: Replacing docs for `Main.Solvers.activeSetMethod :: Union{NTuple{6, Any}, NTuple{7, Any}, NTuple{8, Any}}` in module `Main.Solvers`\n",
      "└ @ Base.Docs docs/Docs.jl:240\n"
     ]
    }
   ],
   "metadata": {}
  },
  {
   "cell_type": "code",
   "execution_count": 5,
   "source": [
    "G = [1 0; 0 1]\n",
    "c = [-1, -2.5]\n",
    "b = [2, 6, 2, 0, 0]\n",
    "\n",
    "A = [-1 2;\n",
    "    1 2;\n",
    "    1 -2;\n",
    "    -1 0;\n",
    "    0 -1]\n",
    "\n",
    "W_0 = [falses(2); true; falses(2)]\n",
    "\n",
    "n_eq = 0"
   ],
   "outputs": [
    {
     "output_type": "execute_result",
     "data": {
      "text/plain": [
       "0"
      ]
     },
     "metadata": {},
     "execution_count": 5
    }
   ],
   "metadata": {}
  },
  {
   "cell_type": "code",
   "execution_count": 6,
   "source": [
    "x_star, _, μ = activeSetMethod(G, c, A, b, n_eq, W_0)"
   ],
   "outputs": [
    {
     "output_type": "stream",
     "name": "stderr",
     "text": [
      "WARNING: both Utils and Utils export \"solve2_8\"; uses of it in module Solvers must be qualified\n"
     ]
    },
    {
     "output_type": "error",
     "ename": "LoadError",
     "evalue": "UndefVarError: solve2_8 not defined",
     "traceback": [
      "UndefVarError: solve2_8 not defined",
      "",
      "Stacktrace:",
      " [1] activeSetMethod(G::Matrix{Int64}, c::Vector{Float64}, A::Matrix{Int64}, b::Vector{Int64}, n_eq::Int64, W_k::BitVector, maxiter::Int64, atol::Float64)",
      "   @ Main.Solvers ~/Dropbox/ITAM/Semestre 9 - Otoño 2021/OptimizaciónN/proyecto/src/Solvers.jl:69",
      " [2] activeSetMethod(G::Matrix{Int64}, c::Vector{Float64}, A::Matrix{Int64}, b::Vector{Int64}, n_eq::Int64, W_k::BitVector)",
      "   @ Main.Solvers ~/Dropbox/ITAM/Semestre 9 - Otoño 2021/OptimizaciónN/proyecto/src/Solvers.jl:50",
      " [3] top-level scope",
      "   @ In[6]:1",
      " [4] eval",
      "   @ ./boot.jl:360 [inlined]",
      " [5] include_string(mapexpr::typeof(REPL.softscope), mod::Module, code::String, filename::String)",
      "   @ Base ./loading.jl:1094"
     ]
    }
   ],
   "metadata": {}
  },
  {
   "cell_type": "code",
   "execution_count": 4,
   "source": [
    "x_star' * G * x_star + c' * x_star"
   ],
   "outputs": [
    {
     "output_type": "error",
     "ename": "UndefVarError",
     "evalue": "UndefVarError: x_star not defined",
     "traceback": [
      "\n",
      "Stacktrace:\n",
      "  [1] top-level scope\n",
      "    @ ~/Dropbox/ITAM/Semestre 9 - Otoño 2021/OptimizaciónN/proyecto/src/script1.ipynb:1\n",
      "  [2] eval\n",
      "    @ ./boot.jl:360 [inlined]\n",
      "  [3] include_string(mapexpr::typeof(REPL.softscope), mod::Module, code::String, filename::String)\n",
      "    @ Base ./loading.jl:1094\n",
      "  [4] #invokelatest#2\n",
      "    @ ./essentials.jl:708 [inlined]\n",
      "  [5] invokelatest\n",
      "    @ ./essentials.jl:706 [inlined]\n",
      "  [6] (::VSCodeServer.var\"#98#99\"{VSCodeServer.NotebookRunCellArguments, String})()\n",
      "    @ VSCodeServer ~/.vscode/extensions/julialang.language-julia-1.4.3/scripts/packages/VSCodeServer/src/serve_notebook.jl:18\n",
      "  [7] withpath(f::VSCodeServer.var\"#98#99\"{VSCodeServer.NotebookRunCellArguments, String}, path::String)\n",
      "    @ VSCodeServer ~/.vscode/extensions/julialang.language-julia-1.4.3/scripts/packages/VSCodeServer/src/repl.jl:185\n",
      "  [8] notebook_runcell_request(conn::VSCodeServer.JSONRPC.JSONRPCEndpoint{Base.PipeEndpoint, Base.PipeEndpoint}, params::VSCodeServer.NotebookRunCellArguments)\n",
      "    @ VSCodeServer ~/.vscode/extensions/julialang.language-julia-1.4.3/scripts/packages/VSCodeServer/src/serve_notebook.jl:14\n",
      "  [9] dispatch_msg(x::VSCodeServer.JSONRPC.JSONRPCEndpoint{Base.PipeEndpoint, Base.PipeEndpoint}, dispatcher::VSCodeServer.JSONRPC.MsgDispatcher, msg::Dict{String, Any})\n",
      "    @ VSCodeServer.JSONRPC ~/.vscode/extensions/julialang.language-julia-1.4.3/scripts/packages/JSONRPC/src/typed.jl:67\n",
      " [10] serve_notebook(pipename::String; crashreporting_pipename::String)\n",
      "    @ VSCodeServer ~/.vscode/extensions/julialang.language-julia-1.4.3/scripts/packages/VSCodeServer/src/serve_notebook.jl:94\n",
      " [11] top-level scope\n",
      "    @ ~/.vscode/extensions/julialang.language-julia-1.4.3/scripts/notebook/notebook.jl:10\n",
      " [12] include(mod::Module, _path::String)\n",
      "    @ Base ./Base.jl:386\n",
      " [13] exec_options(opts::Base.JLOptions)\n",
      "    @ Base ./client.jl:285\n",
      " [14] _start()\n",
      "    @ Base ./client.jl:485"
     ]
    }
   ],
   "metadata": {}
  },
  {
   "cell_type": "markdown",
   "source": [
    "![Problema 1](../docs/p1.png)"
   ],
   "metadata": {}
  },
  {
   "cell_type": "markdown",
   "source": [
    "Lo hizo bien, salvo por el valor de $q$. `quadprog` de Matlab da los mismos resultados."
   ],
   "metadata": {}
  }
 ],
 "metadata": {
  "orig_nbformat": 4,
  "language_info": {
   "name": "julia",
   "version": "1.6.1",
   "mimetype": "application/julia",
   "file_extension": ".jl"
  },
  "kernelspec": {
   "display_name": "Julia 1.6.1",
   "language": "julia",
   "name": "julia-1.6"
  }
 },
 "nbformat": 4,
 "nbformat_minor": 2
}